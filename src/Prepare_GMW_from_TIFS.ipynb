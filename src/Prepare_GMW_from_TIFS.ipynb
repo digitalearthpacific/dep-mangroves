{
 "cells": [
  {
   "cell_type": "code",
   "execution_count": null,
   "id": "02d8f634",
   "metadata": {},
   "outputs": [],
   "source": [
    "import glob\n",
    "import xarray as xr\n",
    "import geopandas as gpd\n",
    "import pandas as pd"
   ]
  },
  {
   "cell_type": "code",
   "execution_count": null,
   "id": "e8e5cdde",
   "metadata": {},
   "outputs": [],
   "source": [
    "# TIFs downloaded from https://www.eorc.jaxa.jp/ALOS/en/dataset/gmw_e.htm\n",
    "path = \"/Users/alex/Downloads/GMW-15_2020_v3.0/*v3.tif\"\n",
    "\n",
    "xarrays = []\n",
    "for i in glob.glob(path):\n",
    "    xarrays.append(xr.open_dataset(i))"
   ]
  },
  {
   "cell_type": "code",
   "execution_count": null,
   "id": "38c5c0d6",
   "metadata": {},
   "outputs": [],
   "source": []
  },
  {
   "cell_type": "code",
   "execution_count": null,
   "id": "1e3d558f",
   "metadata": {},
   "outputs": [],
   "source": [
    "from dea_tools.spatial import xr_vectorize\n",
    "\n",
    "vectors = []\n",
    "for ds in xarrays:\n",
    "    # Rename band_data to data\n",
    "    ds = ds.rename({\"band_data\": \"data\"})\n",
    "\n",
    "    vector = xr_vectorize(\n",
    "        ds,\n",
    "    )\n",
    "    # Only keep where the attribute is 1.0\n",
    "    vector = vector.where(vector[\"attribute\"] == 1.0).dropna()\n",
    "    vectors.append(vector)"
   ]
  },
  {
   "cell_type": "code",
   "execution_count": null,
   "id": "0b690115",
   "metadata": {},
   "outputs": [],
   "source": [
    "from dep_tools.grids import PACIFIC_EPSG\n",
    "\n",
    "# Concat all the gdfs into one\n",
    "gdf = gpd.GeoDataFrame(pd.concat(vectors, ignore_index=True))\n",
    "\n",
    "# Reproject to pacific\n",
    "pacific = gdf.to_crs(PACIFIC_EPSG)\n",
    "# Save to file\n",
    "pacific.to_parquet(\"src/gmw_pacific_new.parquet\")"
   ]
  },
  {
   "cell_type": "code",
   "execution_count": null,
   "id": "c8a3cdea",
   "metadata": {},
   "outputs": [],
   "source": [
    "gdf.explore()"
   ]
  }
 ],
 "metadata": {
  "kernelspec": {
   "display_name": "Python 3",
   "language": "python",
   "name": "python3"
  },
  "language_info": {
   "codemirror_mode": {
    "name": "ipython",
    "version": 3
   },
   "file_extension": ".py",
   "mimetype": "text/x-python",
   "name": "python",
   "nbconvert_exporter": "python",
   "pygments_lexer": "ipython3",
   "version": "3.11.11"
  }
 },
 "nbformat": 4,
 "nbformat_minor": 5
}
