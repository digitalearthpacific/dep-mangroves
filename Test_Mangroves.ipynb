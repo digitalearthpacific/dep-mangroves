{
 "cells": [
  {
   "cell_type": "code",
   "execution_count": 1,
   "metadata": {},
   "outputs": [],
   "source": [
    "from dep_tools.loaders import Sentinel2OdcLoader\n",
    "from dep_tools.namers import LocalPath\n",
    "from dep_tools.runner import run_by_area_dask_local\n",
    "\n",
    "# TODO: Fix up the local writer to handle\n",
    "# multiple-file writing...\n",
    "from dep_tools.writers import LocalDsWriter\n",
    "from logging import Logger\n",
    "\n",
    "\n",
    "from src.run_task import MangrovesProcessor"
   ]
  },
  {
   "cell_type": "code",
   "execution_count": 2,
   "metadata": {},
   "outputs": [],
   "source": [
    "from src.grid import grid\n",
    "datetime = \"2023\"\n",
    "\n",
    "\n",
    "processor = MangrovesProcessor()\n",
    "\n",
    "writer = LocalDsWriter(itempath=LocalPath(\n",
    "    sensor=\"s2\",\n",
    "    dataset_id=\"mangroves\",\n",
    "    version=\"local_test_1\",\n",
    "    time=datetime,\n",
    "    local_folder=\"data/test_mangroves\"))"
   ]
  },
  {
   "cell_type": "code",
   "execution_count": null,
   "metadata": {},
   "outputs": [],
   "source": []
  },
  {
   "cell_type": "code",
   "execution_count": 4,
   "metadata": {},
   "outputs": [
    {
     "name": "stderr",
     "output_type": "stream",
     "text": [
      "  0%|                                                                                                                                                             | 0/1 [00:00<?, ?it/s]/home/jesse/Projects/D4D/dep-mangroves/venv/lib/python3.10/site-packages/rasterio/warp.py:344: NotGeoreferencedWarning: Dataset has no geotransform, gcps, or rpcs. The identity matrix will be returned.\n",
      "  _reproject(\n",
      "/home/jesse/Projects/D4D/dep-mangroves/venv/lib/python3.10/site-packages/rasterio/warp.py:344: NotGeoreferencedWarning: Dataset has no geotransform, gcps, or rpcs. The identity matrix will be returned.\n",
      "  _reproject(\n",
      "/home/jesse/Projects/D4D/dep-mangroves/venv/lib/python3.10/site-packages/rasterio/warp.py:344: NotGeoreferencedWarning: Dataset has no geotransform, gcps, or rpcs. The identity matrix will be returned.\n",
      "  _reproject(\n",
      "/home/jesse/Projects/D4D/dep-mangroves/venv/lib/python3.10/site-packages/rasterio/warp.py:344: NotGeoreferencedWarning: Dataset has no geotransform, gcps, or rpcs. The identity matrix will be returned.\n",
      "  _reproject(\n",
      "/home/jesse/Projects/D4D/dep-mangroves/venv/lib/python3.10/site-packages/rasterio/warp.py:344: NotGeoreferencedWarning: Dataset has no geotransform, gcps, or rpcs. The identity matrix will be returned.\n",
      "  _reproject(\n",
      "100%|████████████████████████████████████████████████████████████████████████████████████████████████████████████████████████████████████████████████████| 1/1 [02:28<00:00, 148.09s/it]\n"
     ]
    }
   ],
   "source": [
    "region_code = \"FJ\"\n",
    "region_index = \"006\"\n",
    "\n",
    "areas = grid[grid.index == (region_code, region_index)]\n",
    "\n",
    "loader = Sentinel2OdcLoader(\n",
    "    epsg=3832,\n",
    "    datetime=datetime,\n",
    "    dask_chunksize=dict(band=1, time=1, x=4096, y=4096),\n",
    "    odc_load_kwargs=dict(fail_on_error=False, resolution=10, bands=[\"B04\", \"B08\"]),\n",
    ")\n",
    "\n",
    "run_by_area_dask_local(\n",
    "    areas=areas,\n",
    "    loader=loader,\n",
    "    processor=processor,\n",
    "    writer=writer,\n",
    "    logger=Logger(\"test_mangroves\"),\n",
    "    continue_on_error=False,\n",
    "    local_cluster_kwargs={},\n",
    ")"
   ]
  },
  {
   "cell_type": "code",
   "execution_count": null,
   "metadata": {},
   "outputs": [],
   "source": []
  }
 ],
 "metadata": {
  "kernelspec": {
   "display_name": "Python 3 (ipykernel)",
   "language": "python",
   "name": "python3"
  },
  "language_info": {
   "codemirror_mode": {
    "name": "ipython",
    "version": 3
   },
   "file_extension": ".py",
   "mimetype": "text/x-python",
   "name": "python",
   "nbconvert_exporter": "python",
   "pygments_lexer": "ipython3",
   "version": "3.10.11"
  }
 },
 "nbformat": 4,
 "nbformat_minor": 4
}
