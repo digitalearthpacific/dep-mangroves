{
 "cells": [
  {
   "cell_type": "code",
   "execution_count": 9,
   "metadata": {},
   "outputs": [],
   "source": [
    "from dep_tools.loaders import Sentinel2OdcLoader\n",
    "from dep_tools.runner import run_by_area_dask_local\n",
    "\n",
    "# TODO: Fix up the local writer to handle\n",
    "# multiple-file writing...\n",
    "from dep_tools.writers import LocalXrWriter\n",
    "from logging import Logger\n",
    "\n",
    "\n",
    "from src.run_task import MangrovesProcessor"
   ]
  },
  {
   "cell_type": "code",
   "execution_count": 5,
   "metadata": {},
   "outputs": [],
   "source": [
    "from src.grid import grid\n",
    "\n",
    "processor = MangrovesProcessor()\n",
    "\n",
    "writer = LocalXrWriter(itempath=\"data/test_mangroves\")"
   ]
  },
  {
   "cell_type": "code",
   "execution_count": 10,
   "metadata": {},
   "outputs": [
    {
     "name": "stderr",
     "output_type": "stream",
     "text": [
      "  0%|          | 0/1 [00:00<?, ?it/s][('FJ', '006'), 'error', '', TypeError(\"LocalXrWriter.write() missing 1 required positional argument: 'asset_name'\")]\n",
      "  0%|          | 0/1 [06:54<?, ?it/s]\n"
     ]
    },
    {
     "ename": "TypeError",
     "evalue": "LocalXrWriter.write() missing 1 required positional argument: 'asset_name'",
     "output_type": "error",
     "traceback": [
      "\u001b[0;31m---------------------------------------------------------------------------\u001b[0m",
      "\u001b[0;31mTypeError\u001b[0m                                 Traceback (most recent call last)",
      "Cell \u001b[0;32mIn[10], line 14\u001b[0m\n\u001b[1;32m      5\u001b[0m areas \u001b[39m=\u001b[39m grid[grid\u001b[39m.\u001b[39mindex \u001b[39m==\u001b[39m (region_code, region_index)]\n\u001b[1;32m      7\u001b[0m loader \u001b[39m=\u001b[39m Sentinel2OdcLoader(\n\u001b[1;32m      8\u001b[0m     epsg\u001b[39m=\u001b[39m\u001b[39m3832\u001b[39m,\n\u001b[1;32m      9\u001b[0m     datetime\u001b[39m=\u001b[39mdatetime,\n\u001b[1;32m     10\u001b[0m     dask_chunksize\u001b[39m=\u001b[39m\u001b[39mdict\u001b[39m(band\u001b[39m=\u001b[39m\u001b[39m1\u001b[39m, time\u001b[39m=\u001b[39m\u001b[39m1\u001b[39m, x\u001b[39m=\u001b[39m\u001b[39m4096\u001b[39m, y\u001b[39m=\u001b[39m\u001b[39m4096\u001b[39m),\n\u001b[1;32m     11\u001b[0m     odc_load_kwargs\u001b[39m=\u001b[39m\u001b[39mdict\u001b[39m(fail_on_error\u001b[39m=\u001b[39m\u001b[39mFalse\u001b[39;00m, resolution\u001b[39m=\u001b[39m\u001b[39m10\u001b[39m, bands\u001b[39m=\u001b[39m[\u001b[39m\"\u001b[39m\u001b[39mB04\u001b[39m\u001b[39m\"\u001b[39m, \u001b[39m\"\u001b[39m\u001b[39mB08\u001b[39m\u001b[39m\"\u001b[39m]),\n\u001b[1;32m     12\u001b[0m )\n\u001b[0;32m---> 14\u001b[0m run_by_area_dask_local(\n\u001b[1;32m     15\u001b[0m     areas\u001b[39m=\u001b[39;49mareas,\n\u001b[1;32m     16\u001b[0m     loader\u001b[39m=\u001b[39;49mloader,\n\u001b[1;32m     17\u001b[0m     processor\u001b[39m=\u001b[39;49mprocessor,\n\u001b[1;32m     18\u001b[0m     writer\u001b[39m=\u001b[39;49mwriter,\n\u001b[1;32m     19\u001b[0m     logger\u001b[39m=\u001b[39;49mLogger(\u001b[39m\"\u001b[39;49m\u001b[39mtest_mangroves\u001b[39;49m\u001b[39m\"\u001b[39;49m),\n\u001b[1;32m     20\u001b[0m     continue_on_error\u001b[39m=\u001b[39;49m\u001b[39mFalse\u001b[39;49;00m,\n\u001b[1;32m     21\u001b[0m     local_cluster_kwargs\u001b[39m=\u001b[39;49m{},\n\u001b[1;32m     22\u001b[0m )\n",
      "File \u001b[0;32m~/git/digitalearthpacific/dep-tools/dep_tools/runner.py:122\u001b[0m, in \u001b[0;36mrun_by_area_dask_local\u001b[0;34m(local_cluster_kwargs, **kwargs)\u001b[0m\n\u001b[1;32m    120\u001b[0m \u001b[39mdef\u001b[39;00m \u001b[39mrun_by_area_dask_local\u001b[39m(local_cluster_kwargs\u001b[39m=\u001b[39m\u001b[39mdict\u001b[39m(), \u001b[39m*\u001b[39m\u001b[39m*\u001b[39mkwargs):\n\u001b[1;32m    121\u001b[0m     \u001b[39mwith\u001b[39;00m Client(\u001b[39m*\u001b[39m\u001b[39m*\u001b[39mlocal_cluster_kwargs):\n\u001b[0;32m--> 122\u001b[0m         run_by_area(\u001b[39m*\u001b[39;49m\u001b[39m*\u001b[39;49mkwargs)\n",
      "File \u001b[0;32m~/git/digitalearthpacific/dep-tools/dep_tools/runner.py:104\u001b[0m, in \u001b[0;36mrun_by_area\u001b[0;34m(areas, loader, processor, writer, logger, **kwargs)\u001b[0m\n\u001b[1;32m     89\u001b[0m \u001b[39mdef\u001b[39;00m \u001b[39mrun_by_area\u001b[39m(\n\u001b[1;32m     90\u001b[0m     areas: GeoDataFrame,\n\u001b[1;32m     91\u001b[0m     loader: Loader,\n\u001b[0;32m   (...)\u001b[0m\n\u001b[1;32m     95\u001b[0m     \u001b[39m*\u001b[39m\u001b[39m*\u001b[39mkwargs\n\u001b[1;32m     96\u001b[0m ) \u001b[39m-\u001b[39m\u001b[39m>\u001b[39m \u001b[39mNone\u001b[39;00m:\n\u001b[1;32m     97\u001b[0m     AreasRunner(\n\u001b[1;32m     98\u001b[0m         areas,\n\u001b[1;32m     99\u001b[0m         loader\u001b[39m=\u001b[39;49mloader,\n\u001b[1;32m    100\u001b[0m         processor\u001b[39m=\u001b[39;49mprocessor,\n\u001b[1;32m    101\u001b[0m         writer\u001b[39m=\u001b[39;49mwriter,\n\u001b[1;32m    102\u001b[0m         logger\u001b[39m=\u001b[39;49mlogger,\n\u001b[1;32m    103\u001b[0m         \u001b[39m*\u001b[39;49m\u001b[39m*\u001b[39;49mkwargs\n\u001b[0;32m--> 104\u001b[0m     )\u001b[39m.\u001b[39;49mrun()\n",
      "File \u001b[0;32m~/git/digitalearthpacific/dep-tools/dep_tools/runner.py:84\u001b[0m, in \u001b[0;36mAreasRunner.run\u001b[0;34m(self)\u001b[0m\n\u001b[1;32m     82\u001b[0m     \u001b[39mif\u001b[39;00m \u001b[39mself\u001b[39m\u001b[39m.\u001b[39mcontinue_on_error:\n\u001b[1;32m     83\u001b[0m         \u001b[39mcontinue\u001b[39;00m\n\u001b[0;32m---> 84\u001b[0m     \u001b[39mraise\u001b[39;00m e\n\u001b[1;32m     86\u001b[0m \u001b[39mself\u001b[39m\u001b[39m.\u001b[39mlogger\u001b[39m.\u001b[39minfo([index, \u001b[39m\"\u001b[39m\u001b[39mcomplete\u001b[39m\u001b[39m\"\u001b[39m, paths])\n",
      "File \u001b[0;32m~/git/digitalearthpacific/dep-tools/dep_tools/runner.py:77\u001b[0m, in \u001b[0;36mAreasRunner.run\u001b[0;34m(self)\u001b[0m\n\u001b[1;32m     75\u001b[0m     \u001b[39mraise\u001b[39;00m NoOutputError()\n\u001b[1;32m     76\u001b[0m \u001b[39mtry\u001b[39;00m:\n\u001b[0;32m---> 77\u001b[0m     paths \u001b[39m=\u001b[39m \u001b[39mself\u001b[39;49m\u001b[39m.\u001b[39;49mwriter\u001b[39m.\u001b[39;49mwrite(output_data, index)\n\u001b[1;32m     78\u001b[0m \u001b[39mexcept\u001b[39;00m \u001b[39mException\u001b[39;00m \u001b[39mas\u001b[39;00m e:\n\u001b[1;32m     79\u001b[0m     \u001b[39m# I just put \"error\" here because it could be more than\u001b[39;00m\n\u001b[1;32m     80\u001b[0m     \u001b[39m# a write error due to dask.\u001b[39;00m\n\u001b[1;32m     81\u001b[0m     \u001b[39mself\u001b[39m\u001b[39m.\u001b[39mlogger\u001b[39m.\u001b[39merror([index, \u001b[39m\"\u001b[39m\u001b[39merror\u001b[39m\u001b[39m\"\u001b[39m, \u001b[39m\"\u001b[39m\u001b[39m\"\u001b[39m, e])\n",
      "\u001b[0;31mTypeError\u001b[0m: LocalXrWriter.write() missing 1 required positional argument: 'asset_name'"
     ]
    }
   ],
   "source": [
    "region_code = \"FJ\"\n",
    "region_index = \"006\"\n",
    "datetime = \"2023\"\n",
    "\n",
    "areas = grid[grid.index == (region_code, region_index)]\n",
    "\n",
    "loader = Sentinel2OdcLoader(\n",
    "    epsg=3832,\n",
    "    datetime=datetime,\n",
    "    dask_chunksize=dict(band=1, time=1, x=4096, y=4096),\n",
    "    odc_load_kwargs=dict(fail_on_error=False, resolution=10, bands=[\"B04\", \"B08\"]),\n",
    ")\n",
    "\n",
    "run_by_area_dask_local(\n",
    "    areas=areas,\n",
    "    loader=loader,\n",
    "    processor=processor,\n",
    "    writer=writer,\n",
    "    logger=Logger(\"test_mangroves\"),\n",
    "    continue_on_error=False,\n",
    "    local_cluster_kwargs={},\n",
    ")"
   ]
  },
  {
   "cell_type": "code",
   "execution_count": null,
   "metadata": {},
   "outputs": [],
   "source": []
  }
 ],
 "metadata": {
  "kernelspec": {
   "display_name": "Python 3",
   "language": "python",
   "name": "python3"
  },
  "language_info": {
   "codemirror_mode": {
    "name": "ipython",
    "version": 3
   },
   "file_extension": ".py",
   "mimetype": "text/x-python",
   "name": "python",
   "nbconvert_exporter": "python",
   "pygments_lexer": "ipython3",
   "version": "3.11.4"
  },
  "orig_nbformat": 4
 },
 "nbformat": 4,
 "nbformat_minor": 2
}
