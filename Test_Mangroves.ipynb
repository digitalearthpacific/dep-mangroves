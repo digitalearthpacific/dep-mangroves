{
 "cells": [
  {
   "cell_type": "code",
   "execution_count": null,
   "metadata": {},
   "outputs": [],
   "source": [
    "from dep_tools.grids import PACIFIC_GRID_10\n",
    "from src.utils import get_gmw\n",
    "\n",
    "from odc.stac import configure_s3_access\n",
    "from dep_tools.searchers import PystacSearcher\n",
    "from dep_tools.loaders import OdcLoader\n",
    "\n",
    "import sys\n",
    "sys.path.append('src')\n",
    "from run_task import MangrovesProcessor"
   ]
  },
  {
   "cell_type": "code",
   "execution_count": null,
   "metadata": {},
   "outputs": [],
   "source": [
    "%load_ext autoreload\n",
    "%autoreload 2"
   ]
  },
  {
   "cell_type": "code",
   "execution_count": null,
   "metadata": {},
   "outputs": [],
   "source": [
    "tile_id = \"64,19\"\n",
    "year = \"2024\"\n",
    "\n",
    "grid = PACIFIC_GRID_10\n",
    "tile_index = tuple(int(i) for i in tile_id.split(\",\"))\n",
    "geobox = grid.tile_geobox(tile_index)\n",
    "\n",
    "gmw = get_gmw()\n",
    "geom = geobox.geographic_extent.to_crs(gmw.crs)\n",
    "\n",
    "areas = gmw.intersection(geom)\n",
    "\n",
    "configure_s3_access(cloud_defaults=True)\n",
    "\n",
    "catalog = \"https://stac.digitalearthpacific.org\"\n",
    "collection = \"dep_s2_geomad\"\n",
    "\n",
    "searcher = PystacSearcher(\n",
    "    catalog=catalog, collections=[collection], datetime=year\n",
    ")\n",
    "\n",
    "loader = OdcLoader(\n",
    "    bands=[\"red\", \"nir\"],\n",
    "    # chunks=[-1, 2048, 2048],\n",
    "    groupby=\"solar_day\",\n",
    "    fail_on_error=False,\n",
    "    clip_to_area=False,\n",
    ")\n",
    "\n",
    "processor = MangrovesProcessor(areas)"
   ]
  },
  {
   "cell_type": "code",
   "execution_count": null,
   "metadata": {},
   "outputs": [],
   "source": [
    "# Check out the study site\n",
    "geobox.explore()"
   ]
  },
  {
   "cell_type": "code",
   "execution_count": null,
   "metadata": {},
   "outputs": [],
   "source": [
    "items = searcher.search(geobox)\n",
    "print(f\"Found {len(items)} items\")"
   ]
  },
  {
   "cell_type": "code",
   "execution_count": null,
   "metadata": {},
   "outputs": [],
   "source": [
    "# Run the load process, which uses Dask, so it's fast\n",
    "input_data = loader.load(items, geobox)\n",
    "input_data"
   ]
  },
  {
   "cell_type": "code",
   "execution_count": null,
   "metadata": {},
   "outputs": [],
   "source": [
    "import xarray as xr\n",
    "\n",
    "OUTPUT_NODATA = 255\n",
    "\n",
    "data = input_data\n",
    "\n",
    "data = data.squeeze()\n",
    "\n",
    "# Scale and offset the data\n",
    "data = (data * (1 / 10_000) + 0).clip(0, 1)\n",
    "\n",
    "# Mask to only keep areas identified as mangroves in the GMW dataset\n",
    "data = data.odc.mask(areas)\n",
    "\n",
    "# Create NDVI\n",
    "data[\"ndvi\"] = (data.nir - data.red) / (data.nir + data.red)\n",
    "\n",
    "# Create an empty DataArray to store the mangroves classification\n",
    "data[\"mangroves\"] = xr.full_like(data.ndvi, OUTPUT_NODATA, dtype=\"uint8\")\n",
    "\n",
    "# Classify so that less than 0.4 is 0, between 0.4 and 0.7 is 1, and greater than 0.7 is 2\n",
    "data[\"mangroves\"] = xr.where(data.ndvi <= 0.4, 0, data.mangroves)\n",
    "data[\"mangroves\"] = xr.where(\n",
    "    (data.ndvi > 0.4) & (data.ndvi <= 0.7), 1, data.mangroves\n",
    ")\n",
    "data[\"mangroves\"] = xr.where(\n",
    "    (data.ndvi > 0.7), 2, data.mangroves\n",
    ")\n",
    "\n",
    "# Mask nodata from the NDVI\n",
    "data[\"mangroves\"] = data.mangroves.where(data.ndvi.notnull(), OUTPUT_NODATA)\n",
    "\n",
    "# Only keep the mangroves band and set nodata\n",
    "data = data[[\"mangroves\"]].astype(\"uint8\")\n",
    "data.mangroves.odc.nodata = OUTPUT_NODATA\n",
    "\n",
    "data"
   ]
  },
  {
   "cell_type": "code",
   "execution_count": null,
   "metadata": {},
   "outputs": [],
   "source": [
    "data.mangroves.odc.explore(vmin=0, vmax=2, nodata=-9999)"
   ]
  },
  {
   "cell_type": "code",
   "execution_count": null,
   "metadata": {},
   "outputs": [],
   "source": [
    "# Plot data. Yellow is not-mangrove, green is open and dark green is closed \n",
    "data.mangroves.plot.imshow(levels=[0, 1, 2, 3], colors=[\"white\", \"yellow\", \"green\", \"darkgreen\"])"
   ]
  }
 ],
 "metadata": {
  "kernelspec": {
   "display_name": "Python 3",
   "language": "python",
   "name": "python3"
  },
  "language_info": {
   "codemirror_mode": {
    "name": "ipython",
    "version": 3
   },
   "file_extension": ".py",
   "mimetype": "text/x-python",
   "name": "python",
   "nbconvert_exporter": "python",
   "pygments_lexer": "ipython3",
   "version": "3.11.10"
  }
 },
 "nbformat": 4,
 "nbformat_minor": 4
}
