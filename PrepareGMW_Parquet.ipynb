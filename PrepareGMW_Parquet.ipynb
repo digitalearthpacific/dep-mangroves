{
 "cells": [
  {
   "cell_type": "code",
   "execution_count": null,
   "metadata": {},
   "outputs": [],
   "source": [
    "import geopandas as gpd\n",
    "from dep_tools.grids import grid, PACIFIC_EPSG, gadm\n",
    "from odc.geo import BoundingBox\n",
    "from geopandas import GeoSeries"
   ]
  },
  {
   "cell_type": "code",
   "execution_count": null,
   "metadata": {},
   "outputs": [],
   "source": [
    "# url = \"https://deppcpublicstorage.blob.core.windows.net/input/gmw/gmw_v3_2020_vec.zip\"\n",
    "url = \"~/Downloads/gmw_v3_2020_vec.zip\"\n",
    "gmw_full: GeoSeries = gpd.read_file(url)"
   ]
  },
  {
   "cell_type": "code",
   "execution_count": null,
   "metadata": {},
   "outputs": [],
   "source": [
    "bounds = BoundingBox(120, -30, 280, 30, crs=\"EPSG:4326\")\n",
    "gmw_clipped = gmw_full.clip(bounds).to_crs(PACIFIC_EPSG)"
   ]
  },
  {
   "cell_type": "code",
   "execution_count": null,
   "metadata": {},
   "outputs": [],
   "source": [
    "pacific_grid: GeoSeries = grid(resolution=10, intersect_with=gadm(), return_type=\"GeoSeries\")"
   ]
  },
  {
   "cell_type": "code",
   "execution_count": null,
   "metadata": {},
   "outputs": [],
   "source": [
    "gmw_limited = gmw_clipped.sjoin(pacific_grid, how=\"inner\")"
   ]
  },
  {
   "cell_type": "code",
   "execution_count": null,
   "metadata": {},
   "outputs": [],
   "source": [
    "gmw_limited.to_parquet(\"src/gmw_pacific.parquet\")"
   ]
  }
 ],
 "metadata": {
  "kernelspec": {
   "display_name": "Python 3",
   "language": "python",
   "name": "python3"
  },
  "language_info": {
   "codemirror_mode": {
    "name": "ipython",
    "version": 3
   },
   "file_extension": ".py",
   "mimetype": "text/x-python",
   "name": "python",
   "nbconvert_exporter": "python",
   "pygments_lexer": "ipython3",
   "version": "3.11.10"
  }
 },
 "nbformat": 4,
 "nbformat_minor": 2
}
